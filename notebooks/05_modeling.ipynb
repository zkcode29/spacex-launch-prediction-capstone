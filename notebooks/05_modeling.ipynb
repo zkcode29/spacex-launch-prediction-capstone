{
 "cells": [
  {
   "cell_type": "markdown",
   "metadata": {},
   "source": [
    "# Notebook"
   ]
  },
  {
   "cell_type": "markdown",
   "id": "a44d2bc9",
   "metadata": {},
   "source": [
    "# Step 5: Predictive Analysis (Modeling)\n",
    "\n",
    "This is the core machine learning phase. We will build, train, and evaluate several models."
   ]
  },
  {
   "cell_type": "markdown",
   "id": "1d3e98a5",
   "metadata": {},
   "source": [
    "## 5.1: Setup and Imports"
   ]
  },
  {
   "cell_type": "code",
   "execution_count": 1,
   "id": "d3daebdd",
   "metadata": {},
   "outputs": [],
   "source": [
    "import pandas as pd\n",
    "import numpy as np\n",
    "import yaml\n",
    "import os\n",
    "import joblib\n",
    "import sys\n",
    "from sklearn.linear_model import LogisticRegression\n",
    "from sklearn.svm import SVC\n",
    "from sklearn.tree import DecisionTreeClassifier\n",
    "from sklearn.ensemble import RandomForestClassifier\n",
    "from sklearn.model_selection import GridSearchCV\n",
    "\n",
    "# Add project root to path\n",
    "project_root = os.path.abspath(os.path.join(os.getcwd(), '..'))\n",
    "if project_root not in sys.path:\n",
    "    sys.path.insert(0, project_root)\n",
    "\n",
    "from src.features import create_features, split_and_scale_data\n",
    "from src.eval import evaluate_model"
   ]
  },
  {
   "cell_type": "markdown",
   "id": "5ff359db",
   "metadata": {},
   "source": [
    "## 5.2: Load Data and Config"
   ]
  },
  {
   "cell_type": "code",
   "execution_count": 2,
   "id": "03b80001",
   "metadata": {},
   "outputs": [
    {
     "data": {
      "text/html": [
       "<div>\n",
       "<style scoped>\n",
       "    .dataframe tbody tr th:only-of-type {\n",
       "        vertical-align: middle;\n",
       "    }\n",
       "\n",
       "    .dataframe tbody tr th {\n",
       "        vertical-align: top;\n",
       "    }\n",
       "\n",
       "    .dataframe thead th {\n",
       "        text-align: right;\n",
       "    }\n",
       "</style>\n",
       "<table border=\"1\" class=\"dataframe\">\n",
       "  <thead>\n",
       "    <tr style=\"text-align: right;\">\n",
       "      <th></th>\n",
       "      <th>flight_number</th>\n",
       "      <th>Date</th>\n",
       "      <th>BoosterVersion</th>\n",
       "      <th>PayloadMass</th>\n",
       "      <th>Orbit</th>\n",
       "      <th>LaunchSite</th>\n",
       "      <th>Outcome</th>\n",
       "      <th>Flights</th>\n",
       "      <th>GridFins</th>\n",
       "      <th>Reused</th>\n",
       "      <th>Legs</th>\n",
       "      <th>class</th>\n",
       "    </tr>\n",
       "  </thead>\n",
       "  <tbody>\n",
       "    <tr>\n",
       "      <th>0</th>\n",
       "      <td>1</td>\n",
       "      <td>2006-03-24 22:30:00+00:00</td>\n",
       "      <td>FalconSat</td>\n",
       "      <td>20.000000</td>\n",
       "      <td>LEO</td>\n",
       "      <td>5e9e4502f5090995de566f86</td>\n",
       "      <td>False</td>\n",
       "      <td>1.0</td>\n",
       "      <td>False</td>\n",
       "      <td>False</td>\n",
       "      <td>False</td>\n",
       "      <td>0</td>\n",
       "    </tr>\n",
       "    <tr>\n",
       "      <th>1</th>\n",
       "      <td>2</td>\n",
       "      <td>2007-03-21 01:10:00+00:00</td>\n",
       "      <td>DemoSat</td>\n",
       "      <td>7842.388855</td>\n",
       "      <td>LEO</td>\n",
       "      <td>5e9e4502f5090995de566f86</td>\n",
       "      <td>False</td>\n",
       "      <td>1.0</td>\n",
       "      <td>False</td>\n",
       "      <td>False</td>\n",
       "      <td>False</td>\n",
       "      <td>0</td>\n",
       "    </tr>\n",
       "    <tr>\n",
       "      <th>2</th>\n",
       "      <td>3</td>\n",
       "      <td>2008-08-03 03:34:00+00:00</td>\n",
       "      <td>Trailblazer</td>\n",
       "      <td>7842.388855</td>\n",
       "      <td>LEO</td>\n",
       "      <td>5e9e4502f5090995de566f86</td>\n",
       "      <td>False</td>\n",
       "      <td>1.0</td>\n",
       "      <td>False</td>\n",
       "      <td>False</td>\n",
       "      <td>False</td>\n",
       "      <td>0</td>\n",
       "    </tr>\n",
       "    <tr>\n",
       "      <th>3</th>\n",
       "      <td>4</td>\n",
       "      <td>2008-09-28 23:15:00+00:00</td>\n",
       "      <td>RatSat</td>\n",
       "      <td>165.000000</td>\n",
       "      <td>LEO</td>\n",
       "      <td>5e9e4502f5090995de566f86</td>\n",
       "      <td>False</td>\n",
       "      <td>1.0</td>\n",
       "      <td>False</td>\n",
       "      <td>False</td>\n",
       "      <td>False</td>\n",
       "      <td>0</td>\n",
       "    </tr>\n",
       "    <tr>\n",
       "      <th>4</th>\n",
       "      <td>5</td>\n",
       "      <td>2009-07-13 03:35:00+00:00</td>\n",
       "      <td>RazakSat</td>\n",
       "      <td>200.000000</td>\n",
       "      <td>LEO</td>\n",
       "      <td>5e9e4502f5090995de566f86</td>\n",
       "      <td>False</td>\n",
       "      <td>1.0</td>\n",
       "      <td>False</td>\n",
       "      <td>False</td>\n",
       "      <td>False</td>\n",
       "      <td>0</td>\n",
       "    </tr>\n",
       "  </tbody>\n",
       "</table>\n",
       "</div>"
      ],
      "text/plain": [
       "   flight_number                       Date BoosterVersion  PayloadMass Orbit  \\\n",
       "0              1  2006-03-24 22:30:00+00:00      FalconSat    20.000000   LEO   \n",
       "1              2  2007-03-21 01:10:00+00:00        DemoSat  7842.388855   LEO   \n",
       "2              3  2008-08-03 03:34:00+00:00    Trailblazer  7842.388855   LEO   \n",
       "3              4  2008-09-28 23:15:00+00:00         RatSat   165.000000   LEO   \n",
       "4              5  2009-07-13 03:35:00+00:00       RazakSat   200.000000   LEO   \n",
       "\n",
       "                 LaunchSite  Outcome  Flights  GridFins  Reused   Legs  class  \n",
       "0  5e9e4502f5090995de566f86    False      1.0     False   False  False      0  \n",
       "1  5e9e4502f5090995de566f86    False      1.0     False   False  False      0  \n",
       "2  5e9e4502f5090995de566f86    False      1.0     False   False  False      0  \n",
       "3  5e9e4502f5090995de566f86    False      1.0     False   False  False      0  \n",
       "4  5e9e4502f5090995de566f86    False      1.0     False   False  False      0  "
      ]
     },
     "execution_count": 2,
     "metadata": {},
     "output_type": "execute_result"
    }
   ],
   "source": [
    "## Load config files\n",
    "with open('../config/config.yaml', 'r') as f:\n",
    "    config = yaml.safe_load(f)\n",
    "\n",
    "with open('../config/model_params.yaml', 'r') as f:\n",
    "    params = yaml.safe_load(f)\n",
    "\n",
    "## Load the cleaned dataset\n",
    "INTERIM_DATA_PATH = os.path.join('..', config['data_paths']['interim'])\n",
    "WRANGLED_DATA_FILE = os.path.join(INTERIM_DATA_PATH, config['data_files']['wrangled_data'])\n",
    "df = pd.read_csv(WRANGLED_DATA_FILE)\n",
    "\n",
    "# Display the first few rows to confirm it loaded correctly\n",
    "df.head()"
   ]
  },
  {
   "cell_type": "markdown",
   "id": "7d1aef0d",
   "metadata": {},
   "source": [
    "\n",
    "\n",
    "## 5.3: Feature Engineering and Data Splitting"
   ]
  },
  {
   "cell_type": "code",
   "execution_count": 3,
   "id": "e4938eb3",
   "metadata": {},
   "outputs": [
    {
     "name": "stdout",
     "output_type": "stream",
     "text": [
      "Shape of X_train: (164, 24)\n",
      "Shape of X_test: (41, 24)\n"
     ]
    }
   ],
   "source": [
    "# Apply one-hot encoding\n",
    "features_df = create_features(df)\n",
    "\n",
    "# Define features (X) and target (Y)\n",
    "Y = features_df['class'].values\n",
    "X = features_df.drop(columns=['class', 'Date', 'BoosterVersion', 'Outcome'])\n",
    "\n",
    "# Split and scale the data\n",
    "X_train, X_test, Y_train, Y_test, scaler = split_and_scale_data(\n",
    "    X, Y,\n",
    "    test_size=config['project_settings']['test_size'],\n",
    "    random_state=config['project_settings']['random_state']\n",
    ")\n",
    "\n",
    "print(f\"Shape of X_train: {X_train.shape}\")\n",
    "print(f\"Shape of X_test: {X_test.shape}\")"
   ]
  },
  {
   "cell_type": "markdown",
   "id": "ecebae03",
   "metadata": {},
   "source": [
    "## 5.4: Model Training and Hyperparameter Tuning"
   ]
  },
  {
   "cell_type": "code",
   "execution_count": 4,
   "id": "c8174038",
   "metadata": {},
   "outputs": [
    {
     "name": "stdout",
     "output_type": "stream",
     "text": [
      "--- Tuning LogisticRegression ---\n",
      "Fitting 5 folds for each of 10 candidates, totalling 50 fits\n",
      "Best Score for LogisticRegression: 0.9335\n",
      "\n",
      "--- Tuning SVM ---\n",
      "Fitting 5 folds for each of 32 candidates, totalling 160 fits\n",
      "Best Score for SVM: 0.9335\n",
      "\n",
      "--- Tuning DecisionTree ---\n",
      "Fitting 5 folds for each of 72 candidates, totalling 360 fits\n",
      "Best Score for DecisionTree: 0.9285\n",
      "\n",
      "--- Tuning RandomForest ---\n",
      "Fitting 5 folds for each of 324 candidates, totalling 1620 fits\n",
      "Best Score for RandomForest: 0.9338\n",
      "\n"
     ]
    }
   ],
   "source": [
    "# Define models\n",
    "models = {\n",
    "    'LogisticRegression': LogisticRegression(),\n",
    "    'SVM': SVC(),\n",
    "    'DecisionTree': DecisionTreeClassifier(),\n",
    "    'RandomForest': RandomForestClassifier()\n",
    "}\n",
    "\n",
    "best_estimators = {}\n",
    "for name, model in models.items():\n",
    "    print(f\"--- Tuning {name} ---\")\n",
    "    param_grid = params.get(name, {})  # Use .get for safety\n",
    "    if not param_grid:\n",
    "        print(f\"No parameters found for {name}, using defaults.\")\n",
    "        model.fit(X_train, Y_train)\n",
    "        best_estimators[name] = model\n",
    "        continue\n",
    "\n",
    "    grid_search = GridSearchCV(model, param_grid, cv=5, scoring='f1', n_jobs=-1, verbose=1)\n",
    "    grid_search.fit(X_train, Y_train)\n",
    "    best_estimators[name] = grid_search.best_estimator_\n",
    "    print(f\"Best Score for {name}: {grid_search.best_score_:.4f}\\n\")"
   ]
  },
  {
   "cell_type": "markdown",
   "id": "64d9e109",
   "metadata": {},
   "source": [
    "## 5.5: Model Evaluation on Test Set"
   ]
  },
  {
   "cell_type": "code",
   "execution_count": 5,
   "id": "fe6b7ae6",
   "metadata": {},
   "outputs": [
    {
     "name": "stdout",
     "output_type": "stream",
     "text": [
      "--- Model Evaluation on Test Set ---\n"
     ]
    },
    {
     "data": {
      "text/html": [
       "<div>\n",
       "<style scoped>\n",
       "    .dataframe tbody tr th:only-of-type {\n",
       "        vertical-align: middle;\n",
       "    }\n",
       "\n",
       "    .dataframe tbody tr th {\n",
       "        vertical-align: top;\n",
       "    }\n",
       "\n",
       "    .dataframe thead th {\n",
       "        text-align: right;\n",
       "    }\n",
       "</style>\n",
       "<table border=\"1\" class=\"dataframe\">\n",
       "  <thead>\n",
       "    <tr style=\"text-align: right;\">\n",
       "      <th></th>\n",
       "      <th>Accuracy</th>\n",
       "      <th>Precision</th>\n",
       "      <th>Recall</th>\n",
       "      <th>F1-Score</th>\n",
       "    </tr>\n",
       "    <tr>\n",
       "      <th>Model</th>\n",
       "      <th></th>\n",
       "      <th></th>\n",
       "      <th></th>\n",
       "      <th></th>\n",
       "    </tr>\n",
       "  </thead>\n",
       "  <tbody>\n",
       "    <tr>\n",
       "      <th>LogisticRegression</th>\n",
       "      <td>0.926829</td>\n",
       "      <td>0.906250</td>\n",
       "      <td>1.0</td>\n",
       "      <td>0.950820</td>\n",
       "    </tr>\n",
       "    <tr>\n",
       "      <th>SVM</th>\n",
       "      <td>0.926829</td>\n",
       "      <td>0.906250</td>\n",
       "      <td>1.0</td>\n",
       "      <td>0.950820</td>\n",
       "    </tr>\n",
       "    <tr>\n",
       "      <th>DecisionTree</th>\n",
       "      <td>0.926829</td>\n",
       "      <td>0.906250</td>\n",
       "      <td>1.0</td>\n",
       "      <td>0.950820</td>\n",
       "    </tr>\n",
       "    <tr>\n",
       "      <th>RandomForest</th>\n",
       "      <td>0.902439</td>\n",
       "      <td>0.878788</td>\n",
       "      <td>1.0</td>\n",
       "      <td>0.935484</td>\n",
       "    </tr>\n",
       "  </tbody>\n",
       "</table>\n",
       "</div>"
      ],
      "text/plain": [
       "                    Accuracy  Precision  Recall  F1-Score\n",
       "Model                                                    \n",
       "LogisticRegression  0.926829   0.906250     1.0  0.950820\n",
       "SVM                 0.926829   0.906250     1.0  0.950820\n",
       "DecisionTree        0.926829   0.906250     1.0  0.950820\n",
       "RandomForest        0.902439   0.878788     1.0  0.935484"
      ]
     },
     "metadata": {},
     "output_type": "display_data"
    }
   ],
   "source": [
    "results = []\n",
    "for name, model in best_estimators.items():\n",
    "    metrics = evaluate_model(model, X_test, Y_test)\n",
    "    metrics['Model'] = name\n",
    "    results.append(metrics)\n",
    "\n",
    "results_df = pd.DataFrame(results).set_index('Model')\n",
    "print(\"--- Model Evaluation on Test Set ---\")\n",
    "display(results_df)"
   ]
  },
  {
   "cell_type": "markdown",
   "id": "1aa75796",
   "metadata": {},
   "source": [
    "## 5.6: Select and Save the Best Model"
   ]
  },
  {
   "cell_type": "code",
   "execution_count": 6,
   "id": "e7711b9e",
   "metadata": {},
   "outputs": [
    {
     "name": "stdout",
     "output_type": "stream",
     "text": [
      "The best performing model is: LogisticRegression\n",
      "Model saved to ..\\models\\best_model.pkl\n",
      "Scaler saved to ..\\models\\scaler.pkl\n"
     ]
    }
   ],
   "source": [
    "# Find the best model based on F1-Score\n",
    "best_model_name = results_df['F1-Score'].idxmax()\n",
    "best_model = best_estimators[best_model_name]\n",
    "\n",
    "print(f\"The best performing model is: {best_model_name}\")\n",
    "\n",
    "# Define paths for saving\n",
    "MODELS_PATH = os.path.join('..', config['data_paths']['models'])\n",
    "os.makedirs(MODELS_PATH, exist_ok=True)\n",
    "model_filepath = os.path.join(MODELS_PATH, 'best_model.pkl')\n",
    "scaler_filepath = os.path.join(MODELS_PATH, 'scaler.pkl')\n",
    "\n",
    "# Save the model and the scaler\n",
    "joblib.dump(best_model, model_filepath)\n",
    "joblib.dump(scaler, scaler_filepath)\n",
    "\n",
    "print(f\"Model saved to {model_filepath}\")\n",
    "print(f\"Scaler saved to {scaler_filepath}\")"
   ]
  }
 ],
 "metadata": {
  "kernelspec": {
   "display_name": "venv",
   "language": "python",
   "name": "python3"
  },
  "language_info": {
   "codemirror_mode": {
    "name": "ipython",
    "version": 3
   },
   "file_extension": ".py",
   "mimetype": "text/x-python",
   "name": "python",
   "nbconvert_exporter": "python",
   "pygments_lexer": "ipython3",
   "version": "3.12.4"
  }
 },
 "nbformat": 4,
 "nbformat_minor": 5
}
